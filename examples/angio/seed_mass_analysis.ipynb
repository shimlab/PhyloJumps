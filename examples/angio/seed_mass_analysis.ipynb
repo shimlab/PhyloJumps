{
 "cells": [
  {
   "cell_type": "code",
   "execution_count": 1,
   "metadata": {
    "collapsed": true
   },
   "outputs": [
    {
     "name": "stderr",
     "output_type": "stream",
     "text": [
      "/home/steven/anaconda3/envs/treeHPYP/lib/python3.8/site-packages/ete3-3.1.2-py3.7.egg/ete3/evol/parser/codemlparser.py:221: SyntaxWarning: \"is\" with a literal. Did you mean \"==\"?\n",
      "/home/steven/anaconda3/envs/treeHPYP/lib/python3.8/site-packages/ete3-3.1.2-py3.7.egg/ete3/evol/parser/codemlparser.py:221: SyntaxWarning: \"is\" with a literal. Did you mean \"==\"?\n"
     ]
    }
   ],
   "source": [
    "from treeHPYPcts import newick_from_file, RestFranchise, plots,evals, TreeMCMC\n",
    "import seaborn as sns\n",
    "import pandas as pd\n",
    "import matplotlib.pyplot as plt\n",
    "import matplotlib.colors as Colors\n",
    "from matplotlib.colors import to_hex\n",
    "from matplotlib import cm\n",
    "import numpy as np\n",
    "import random\n",
    "import pickle\n",
    "import sys\n",
    "import os\n",
    "import scipy as sp\n",
    "from sklearn.metrics import confusion_matrix, jaccard_score\n",
    "import matplotlib as mpl\n",
    "mpl.rcParams.update(mpl.rcParamsDefault)\n",
    "%matplotlib inline\n",
    "inline_rc = dict(mpl.rcParams)"
   ]
  },
  {
   "cell_type": "code",
   "execution_count": 2,
   "outputs": [],
   "source": [
    "data_file = 'data/Angio_GIFT_Families_Mean_Seed_Mass.csv'\n",
    "tree_file = 'data/Angio_GIFT_Families_Mean_Seed_Mass.tree'\n",
    "result_dir = 'results'\n",
    "data = pd.read_csv(data_file).iloc[:, 0:2]\n",
    "data.columns = ['node_name', 'obs']\n",
    "\n",
    "tree = RestFranchise(newick=newick_from_file(tree_file))\n",
    "tree.rescale()\n",
    "mcmc = TreeMCMC(tree, data)\n",
    "mcmc.load_mcmc(os.path.join(result_dir, 'mcmc.zip'))"
   ],
   "metadata": {
    "collapsed": false
   }
  },
  {
   "cell_type": "markdown",
   "source": [
    "If we look at the results under `results/real_data/seed_mass-run2` we can see that there are 3 plausible jump configurations."
   ],
   "metadata": {
    "collapsed": false
   }
  },
  {
   "cell_type": "code",
   "execution_count": 3,
   "outputs": [],
   "source": [
    "summary = []\n",
    "for f in sorted(os.listdir(os.path.join(result_dir, 'summary'))):\n",
    "    if f.endswith('.csv'):\n",
    "        summary.append(pd.read_csv(os.path.join(result_dir, 'summary', f)))"
   ],
   "metadata": {
    "collapsed": false
   }
  },
  {
   "cell_type": "markdown",
   "source": [
    "Some configurations have jumps on leaves that do not appear to be important, we can use this function to check how many leaves are affected by each jump and do a filtering."
   ],
   "metadata": {
    "collapsed": false
   }
  },
  {
   "cell_type": "code",
   "execution_count": 4,
   "outputs": [],
   "source": [
    "affected_leaves = []\n",
    "for s in summary:\n",
    "    tree.jps = s['predicted_jp'].tolist()\n",
    "    affected_leaves.append(tree.jp_affected_leave())"
   ],
   "metadata": {
    "collapsed": false
   }
  },
  {
   "cell_type": "code",
   "execution_count": null,
   "outputs": [],
   "source": [
    "jps_pruned = []\n",
    "for s, affected in zip(summary, affected_leaves):\n",
    "    jp = s['predicted_jp']\n",
    "    # if not jumps then do nothing\n",
    "    if jp.sum() == 1:\n",
    "        continue\n",
    "    mask = affected.loc[affected['nleaf'] <= 5, 'node_idx']\n",
    "    jp[mask] = 0\n",
    "    jps_pruned.append(jp.tolist())"
   ],
   "metadata": {
    "collapsed": false,
    "pycharm": {
     "is_executing": true
    }
   }
  },
  {
   "cell_type": "code",
   "execution_count": 6,
   "outputs": [],
   "source": [
    "unique_jps = np.unique(jps_pruned, axis = 0)"
   ],
   "metadata": {
    "collapsed": false
   }
  },
  {
   "cell_type": "code",
   "execution_count": 7,
   "outputs": [
    {
     "data": {
      "text/plain": "(5, 605)"
     },
     "execution_count": 7,
     "metadata": {},
     "output_type": "execute_result"
    }
   ],
   "source": [
    "unique_jps.shape"
   ],
   "metadata": {
    "collapsed": false
   }
  },
  {
   "cell_type": "markdown",
   "source": [
    "We can use this function to visualise how the jumps affect the tree."
   ],
   "metadata": {
    "collapsed": false
   }
  },
  {
   "cell_type": "code",
   "execution_count": 36,
   "outputs": [],
   "source": [
    "tree.plot_with_jp(unique_jps[4].tolist())"
   ],
   "metadata": {
    "collapsed": false
   }
  },
  {
   "cell_type": "markdown",
   "source": [
    "Now we run our comparisons"
   ],
   "metadata": {
    "collapsed": false
   }
  },
  {
   "cell_type": "code",
   "execution_count": 9,
   "outputs": [],
   "source": [
    "lls = mcmc.compare_jps_by_ll(*unique_jps)"
   ],
   "metadata": {
    "collapsed": false
   }
  },
  {
   "cell_type": "code",
   "execution_count": 10,
   "outputs": [],
   "source": [
    "avg_ll = []\n",
    "for x in lls:\n",
    "    avg_ll.append(sp.special.logsumexp(x[0]+ x[1]) - np.log(1000))"
   ],
   "metadata": {
    "collapsed": false
   }
  },
  {
   "cell_type": "code",
   "execution_count": 11,
   "outputs": [
    {
     "data": {
      "text/plain": "[-397.832652921035,\n -366.57166041973665,\n -368.05272136940323,\n -376.9413174640704,\n -398.21273577536545]"
     },
     "execution_count": 11,
     "metadata": {},
     "output_type": "execute_result"
    }
   ],
   "source": [
    "avg_ll"
   ],
   "metadata": {
    "collapsed": false
   }
  },
  {
   "cell_type": "code",
   "execution_count": 12,
   "outputs": [
    {
     "data": {
      "text/plain": "1"
     },
     "execution_count": 12,
     "metadata": {},
     "output_type": "execute_result"
    }
   ],
   "source": [
    "np.argmax(avg_ll)"
   ],
   "metadata": {
    "collapsed": false
   }
  },
  {
   "cell_type": "code",
   "execution_count": 7,
   "outputs": [],
   "source": [
    "samples = mcmc.bayes_factors_multiple(unique_jps.tolist(), num_chains = 8, parallel=True, n_cores = 5)"
   ],
   "metadata": {
    "collapsed": false
   }
  },
  {
   "cell_type": "code",
   "execution_count": 8,
   "outputs": [
    {
     "data": {
      "text/plain": "[[0, 0, 0, 500, 0],\n [0, 0, 500, 0, 0],\n [0, 500, 0, 0, 0],\n [0, 0, 0, 500, 0],\n [0, 0, 500, 0, 0],\n [0, 500, 0, 0, 0],\n [0, 500, 0, 0, 0],\n [0, 3, 0, 497, 0]]"
     },
     "execution_count": 8,
     "metadata": {},
     "output_type": "execute_result"
    }
   ],
   "source": [
    "samples"
   ],
   "metadata": {
    "collapsed": false
   }
  },
  {
   "cell_type": "code",
   "execution_count": 12,
   "outputs": [
    {
     "data": {
      "text/plain": "array([0.     , 0.37575, 0.25   , 0.37425, 0.     ])"
     },
     "execution_count": 12,
     "metadata": {},
     "output_type": "execute_result"
    }
   ],
   "source": [
    "np.array(samples).mean(axis = 0) / 500"
   ],
   "metadata": {
    "collapsed": false
   }
  },
  {
   "cell_type": "code",
   "execution_count": 10,
   "outputs": [],
   "source": [
    "tree.plot_with_jp(unique_jps[2].tolist(), file = os.path.join(result_dir, 'best3.png'), dpi=600, height =5000, width=5000)"
   ],
   "metadata": {
    "collapsed": false
   }
  },
  {
   "cell_type": "code",
   "execution_count": 11,
   "outputs": [
    {
     "data": {
      "text/plain": "<Figure size 800x1200 with 2 Axes>",
      "image/png": "[encoded data removed]"
     },
     "metadata": {},
     "output_type": "display_data"
    }
   ],
   "source": [
    "fig, ax = plots.plot_predicted_dist(tree,data,unique_jps[3].tolist(), density=True, kde=False, bins = 12)"
   ],
   "metadata": {
    "collapsed": false
   }
  },
  {
   "cell_type": "code",
   "execution_count": null,
   "outputs": [],
   "source": [],
   "metadata": {
    "collapsed": false
   }
  }
 ],
 "metadata": {
  "kernelspec": {
   "display_name": "Python 3",
   "language": "python",
   "name": "python3"
  },
  "language_info": {
   "codemirror_mode": {
    "name": "ipython",
    "version": 2
   },
   "file_extension": ".py",
   "mimetype": "text/x-python",
   "name": "python",
   "nbconvert_exporter": "python",
   "pygments_lexer": "ipython2",
   "version": "2.7.6"
  }
 },
 "nbformat": 4,
 "nbformat_minor": 0
}
